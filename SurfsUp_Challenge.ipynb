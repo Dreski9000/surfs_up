{
 "cells": [
  {
   "cell_type": "code",
   "execution_count": 35,
   "metadata": {},
   "outputs": [],
   "source": [
    "# Dependencies\n",
    "import numpy as np\n",
    "\n",
    "# Python SQL toolkit and Object Relational Mapper\n",
    "import sqlalchemy\n",
    "from sqlalchemy.ext.automap import automap_base\n",
    "from sqlalchemy.orm import Session\n",
    "from sqlalchemy import create_engine, func\n",
    "import pandas as pd"
   ]
  },
  {
   "cell_type": "code",
   "execution_count": 3,
   "metadata": {},
   "outputs": [],
   "source": [
    "engine = create_engine(\"sqlite:///hawaii.sqlite\")\n",
    "\n",
    "# reflect an existing database into a new model\n",
    "Base = automap_base()\n",
    "# reflect the tables\n",
    "Base.prepare(engine, reflect=True)\n",
    "\n",
    "# Save references to each table\n",
    "Measurement = Base.classes.measurement\n",
    "Station = Base.classes.station"
   ]
  },
  {
   "cell_type": "code",
   "execution_count": 4,
   "metadata": {},
   "outputs": [],
   "source": [
    "# Create our session (link) from Python to the DB\n",
    "session = Session(engine)"
   ]
  },
  {
   "cell_type": "code",
   "execution_count": 12,
   "metadata": {},
   "outputs": [
    {
     "name": "stdout",
     "output_type": "stream",
     "text": [
      "Help on class measurement in module sqlalchemy.ext.automap:\n",
      "\n",
      "class measurement(Base)\n",
      " |  measurement(**kwargs)\n",
      " |  \n",
      " |  Method resolution order:\n",
      " |      measurement\n",
      " |      Base\n",
      " |      AutomapBase\n",
      " |      sqlalchemy.orm.decl_api.Base\n",
      " |      builtins.object\n",
      " |  \n",
      " |  Methods defined here:\n",
      " |  \n",
      " |  __init__(self, **kwargs)\n",
      " |      A simple constructor that allows initialization from kwargs.\n",
      " |      \n",
      " |      Sets attributes on the constructed instance using the names and\n",
      " |      values in ``kwargs``.\n",
      " |      \n",
      " |      Only keys that are present as\n",
      " |      attributes of the instance's class are allowed. These could be,\n",
      " |      for example, any mapped columns or relationships.\n",
      " |  \n",
      " |  ----------------------------------------------------------------------\n",
      " |  Data descriptors defined here:\n",
      " |  \n",
      " |  date\n",
      " |  \n",
      " |  id\n",
      " |  \n",
      " |  prcp\n",
      " |  \n",
      " |  station\n",
      " |  \n",
      " |  tobs\n",
      " |  \n",
      " |  ----------------------------------------------------------------------\n",
      " |  Data and other attributes defined here:\n",
      " |  \n",
      " |  __mapper__ = <Mapper at 0x7fb8e0f3ca90; measurement>\n",
      " |  \n",
      " |  __table__ = Table('measurement', MetaData(), Column('id', IN...obs', F...\n",
      " |  \n",
      " |  ----------------------------------------------------------------------\n",
      " |  Data and other attributes inherited from Base:\n",
      " |  \n",
      " |  __abstract__ = True\n",
      " |  \n",
      " |  classes = <sqlalchemy.util._collections.Properties object>\n",
      " |  \n",
      " |  ----------------------------------------------------------------------\n",
      " |  Class methods inherited from AutomapBase:\n",
      " |  \n",
      " |  prepare(autoload_with=None, engine=None, reflect=False, schema=None, classname_for_table=None, collection_class=None, name_for_scalar_relationship=None, name_for_collection_relationship=None, generate_relationship=None, reflection_options=immutabledict({})) from sqlalchemy.orm.decl_api.DeclarativeMeta\n",
      " |      Extract mapped classes and relationships from the\n",
      " |      :class:`_schema.MetaData` and\n",
      " |      perform mappings.\n",
      " |      \n",
      " |      :param engine: an :class:`_engine.Engine` or\n",
      " |       :class:`_engine.Connection` with which\n",
      " |       to perform schema reflection, if specified.\n",
      " |       If the :paramref:`.AutomapBase.prepare.reflect` argument is False,\n",
      " |       this object is not used.\n",
      " |      \n",
      " |       .. deprecated:: 1.4 The :paramref:`_automap.AutomapBase.prepare.engine` parameter is deprecated and will be removed in a future release.  Please use the :paramref:`_automap.AutomapBase.prepare.autoload_with` parameter.\n",
      " |      \n",
      " |      \n",
      " |      \n",
      " |      :param reflect: if True, the :meth:`_schema.MetaData.reflect`\n",
      " |       method is called\n",
      " |       on the :class:`_schema.MetaData` associated with this\n",
      " |       :class:`.AutomapBase`.\n",
      " |       The :class:`_engine.Engine` passed via\n",
      " |       :paramref:`.AutomapBase.prepare.engine` will be used to perform the\n",
      " |       reflection if present; else, the :class:`_schema.MetaData`\n",
      " |       should already be\n",
      " |       bound to some engine else the operation will fail.\n",
      " |      \n",
      " |       .. deprecated:: 1.4 The :paramref:`_automap.AutomapBase.prepare.reflect` parameter is deprecated and will be removed in a future release.  Reflection is enabled when :paramref:`_automap.AutomapBase.prepare.autoload_with` is passed.\n",
      " |      \n",
      " |      \n",
      " |      \n",
      " |      :param classname_for_table: callable function which will be used to\n",
      " |       produce new class names, given a table name.  Defaults to\n",
      " |       :func:`.classname_for_table`.\n",
      " |      \n",
      " |      :param name_for_scalar_relationship: callable function which will be\n",
      " |       used to produce relationship names for scalar relationships.  Defaults\n",
      " |       to :func:`.name_for_scalar_relationship`.\n",
      " |      \n",
      " |      :param name_for_collection_relationship: callable function which will\n",
      " |       be used to produce relationship names for collection-oriented\n",
      " |       relationships.  Defaults to :func:`.name_for_collection_relationship`.\n",
      " |      \n",
      " |      :param generate_relationship: callable function which will be used to\n",
      " |       actually generate :func:`_orm.relationship` and :func:`.backref`\n",
      " |       constructs.  Defaults to :func:`.generate_relationship`.\n",
      " |      \n",
      " |      :param collection_class: the Python collection class that will be used\n",
      " |       when a new :func:`_orm.relationship`\n",
      " |       object is created that represents a\n",
      " |       collection.  Defaults to ``list``.\n",
      " |      \n",
      " |      :param schema: When present in conjunction with the\n",
      " |       :paramref:`.AutomapBase.prepare.reflect` flag, is passed to\n",
      " |       :meth:`_schema.MetaData.reflect`\n",
      " |       to indicate the primary schema where tables\n",
      " |       should be reflected from.  When omitted, the default schema in use\n",
      " |       by the database connection is used.\n",
      " |      \n",
      " |       .. versionadded:: 1.1\n",
      " |      \n",
      " |      :param reflection_options: When present, this dictionary of options\n",
      " |       will be passed to :meth:`_schema.MetaData.reflect`\n",
      " |       to supply general reflection-specific options like ``only`` and/or\n",
      " |       dialect-specific options like ``oracle_resolve_synonyms``.\n",
      " |      \n",
      " |       .. versionadded:: 1.4\n",
      " |  \n",
      " |  ----------------------------------------------------------------------\n",
      " |  Data descriptors inherited from AutomapBase:\n",
      " |  \n",
      " |  __dict__\n",
      " |      dictionary for instance variables (if defined)\n",
      " |  \n",
      " |  __weakref__\n",
      " |      list of weak references to the object (if defined)\n",
      " |  \n",
      " |  ----------------------------------------------------------------------\n",
      " |  Data and other attributes inherited from sqlalchemy.orm.decl_api.Base:\n",
      " |  \n",
      " |  metadata = MetaData()\n",
      " |  \n",
      " |  registry = <sqlalchemy.orm.decl_api.registry object>\n",
      "\n"
     ]
    }
   ],
   "source": [
    "help(Measurement)"
   ]
  },
  {
   "cell_type": "code",
   "execution_count": 20,
   "metadata": {},
   "outputs": [
    {
     "data": {
      "text/plain": [
       "<sqlalchemy.orm.attributes.InstrumentedAttribute at 0x7fb8e0fb17c0>"
      ]
     },
     "execution_count": 20,
     "metadata": {},
     "output_type": "execute_result"
    }
   ],
   "source": [
    "Measurement.date"
   ]
  },
  {
   "cell_type": "markdown",
   "metadata": {},
   "source": [
    "## D1: Determine the Summary Statistics for June"
   ]
  },
  {
   "cell_type": "code",
   "execution_count": 31,
   "metadata": {},
   "outputs": [
    {
     "data": {
      "text/plain": [
       "<sqlalchemy.orm.query.Query at 0x7fb8b804e3a0>"
      ]
     },
     "execution_count": 31,
     "metadata": {},
     "output_type": "execute_result"
    }
   ],
   "source": [
    "# 1. Import the sqlalchemy extract function.\n",
    "from sqlalchemy import extract\n",
    "\n",
    "# 2. Write a query that filters the Measurement table to retrieve the temperatures for the month of June. \n",
    "results = session.query(Measurement.tobs).filter(extract('month', Measurement.date) == 6)\n",
    "results"
   ]
  },
  {
   "cell_type": "code",
   "execution_count": 32,
   "metadata": {},
   "outputs": [],
   "source": [
    "#  3. Convert the June temperatures to a list.\n",
    "results = [i[0] for i in results]\n",
    "#results"
   ]
  },
  {
   "cell_type": "code",
   "execution_count": 36,
   "metadata": {},
   "outputs": [],
   "source": [
    "# 4. Create a DataFrame from the list of temperatures for the month of June. \n",
    "junet_df = pd.DataFrame(results)"
   ]
  },
  {
   "cell_type": "code",
   "execution_count": 49,
   "metadata": {},
   "outputs": [
    {
     "data": {
      "text/html": [
       "<div>\n",
       "<style scoped>\n",
       "    .dataframe tbody tr th:only-of-type {\n",
       "        vertical-align: middle;\n",
       "    }\n",
       "\n",
       "    .dataframe tbody tr th {\n",
       "        vertical-align: top;\n",
       "    }\n",
       "\n",
       "    .dataframe thead th {\n",
       "        text-align: right;\n",
       "    }\n",
       "</style>\n",
       "<table border=\"1\" class=\"dataframe\">\n",
       "  <thead>\n",
       "    <tr style=\"text-align: right;\">\n",
       "      <th></th>\n",
       "      <th>June Temps</th>\n",
       "    </tr>\n",
       "  </thead>\n",
       "  <tbody>\n",
       "    <tr>\n",
       "      <th>count</th>\n",
       "      <td>1700.000000</td>\n",
       "    </tr>\n",
       "    <tr>\n",
       "      <th>mean</th>\n",
       "      <td>74.944118</td>\n",
       "    </tr>\n",
       "    <tr>\n",
       "      <th>std</th>\n",
       "      <td>3.257417</td>\n",
       "    </tr>\n",
       "    <tr>\n",
       "      <th>min</th>\n",
       "      <td>64.000000</td>\n",
       "    </tr>\n",
       "    <tr>\n",
       "      <th>25%</th>\n",
       "      <td>73.000000</td>\n",
       "    </tr>\n",
       "    <tr>\n",
       "      <th>50%</th>\n",
       "      <td>75.000000</td>\n",
       "    </tr>\n",
       "    <tr>\n",
       "      <th>75%</th>\n",
       "      <td>77.000000</td>\n",
       "    </tr>\n",
       "    <tr>\n",
       "      <th>max</th>\n",
       "      <td>85.000000</td>\n",
       "    </tr>\n",
       "  </tbody>\n",
       "</table>\n",
       "</div>"
      ],
      "text/plain": [
       "        June Temps\n",
       "count  1700.000000\n",
       "mean     74.944118\n",
       "std       3.257417\n",
       "min      64.000000\n",
       "25%      73.000000\n",
       "50%      75.000000\n",
       "75%      77.000000\n",
       "max      85.000000"
      ]
     },
     "execution_count": 49,
     "metadata": {},
     "output_type": "execute_result"
    }
   ],
   "source": [
    "# 5. Calculate and print out the summary statistics for the June temperature DataFrame.\n",
    "june_summary = junet_df.describe()\n",
    "june_summary.columns = ['June Temps']\n",
    "june_summary"
   ]
  },
  {
   "cell_type": "markdown",
   "metadata": {},
   "source": [
    "## D2: Determine the Summary Statistics for December"
   ]
  },
  {
   "cell_type": "code",
   "execution_count": 40,
   "metadata": {},
   "outputs": [],
   "source": [
    "# 6. Write a query that filters the Measurement table to retrieve the temperatures for the month of December.\n",
    "results = session.query(Measurement.tobs).filter(extract('month', Measurement.date) == 12)"
   ]
  },
  {
   "cell_type": "code",
   "execution_count": 41,
   "metadata": {},
   "outputs": [],
   "source": [
    "# 7. Convert the December temperatures to a list.\n",
    "results = [i[0] for i in results]"
   ]
  },
  {
   "cell_type": "code",
   "execution_count": 42,
   "metadata": {},
   "outputs": [],
   "source": [
    "# 8. Create a DataFrame from the list of temperatures for the month of December. \n",
    "results = pd.DataFrame(results)"
   ]
  },
  {
   "cell_type": "code",
   "execution_count": 50,
   "metadata": {},
   "outputs": [
    {
     "data": {
      "text/html": [
       "<div>\n",
       "<style scoped>\n",
       "    .dataframe tbody tr th:only-of-type {\n",
       "        vertical-align: middle;\n",
       "    }\n",
       "\n",
       "    .dataframe tbody tr th {\n",
       "        vertical-align: top;\n",
       "    }\n",
       "\n",
       "    .dataframe thead th {\n",
       "        text-align: right;\n",
       "    }\n",
       "</style>\n",
       "<table border=\"1\" class=\"dataframe\">\n",
       "  <thead>\n",
       "    <tr style=\"text-align: right;\">\n",
       "      <th></th>\n",
       "      <th>December Temps</th>\n",
       "    </tr>\n",
       "  </thead>\n",
       "  <tbody>\n",
       "    <tr>\n",
       "      <th>count</th>\n",
       "      <td>1517.000000</td>\n",
       "    </tr>\n",
       "    <tr>\n",
       "      <th>mean</th>\n",
       "      <td>71.041529</td>\n",
       "    </tr>\n",
       "    <tr>\n",
       "      <th>std</th>\n",
       "      <td>3.745920</td>\n",
       "    </tr>\n",
       "    <tr>\n",
       "      <th>min</th>\n",
       "      <td>56.000000</td>\n",
       "    </tr>\n",
       "    <tr>\n",
       "      <th>25%</th>\n",
       "      <td>69.000000</td>\n",
       "    </tr>\n",
       "    <tr>\n",
       "      <th>50%</th>\n",
       "      <td>71.000000</td>\n",
       "    </tr>\n",
       "    <tr>\n",
       "      <th>75%</th>\n",
       "      <td>74.000000</td>\n",
       "    </tr>\n",
       "    <tr>\n",
       "      <th>max</th>\n",
       "      <td>83.000000</td>\n",
       "    </tr>\n",
       "  </tbody>\n",
       "</table>\n",
       "</div>"
      ],
      "text/plain": [
       "       December Temps\n",
       "count     1517.000000\n",
       "mean        71.041529\n",
       "std          3.745920\n",
       "min         56.000000\n",
       "25%         69.000000\n",
       "50%         71.000000\n",
       "75%         74.000000\n",
       "max         83.000000"
      ]
     },
     "execution_count": 50,
     "metadata": {},
     "output_type": "execute_result"
    }
   ],
   "source": [
    "# 9. Calculate and print out the summary statistics for the Decemeber temperature DataFrame.\n",
    "dec_summary = results.describe()\n",
    "dec_summary.columns = ['December Temps']\n",
    "dec_summary"
   ]
  },
  {
   "cell_type": "code",
   "execution_count": null,
   "metadata": {},
   "outputs": [],
   "source": []
  }
 ],
 "metadata": {
  "kernelspec": {
   "display_name": "PythonData",
   "language": "python",
   "name": "pythondata"
  },
  "language_info": {
   "codemirror_mode": {
    "name": "ipython",
    "version": 3
   },
   "file_extension": ".py",
   "mimetype": "text/x-python",
   "name": "python",
   "nbconvert_exporter": "python",
   "pygments_lexer": "ipython3",
   "version": "3.9.7"
  }
 },
 "nbformat": 4,
 "nbformat_minor": 2
}
